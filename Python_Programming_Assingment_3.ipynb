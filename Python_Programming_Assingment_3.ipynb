{
 "cells": [
  {
   "cell_type": "code",
   "execution_count": null,
   "id": "38c7d893",
   "metadata": {},
   "outputs": [],
   "source": [
    "#1.Write a Python Program to Check if a Number is Positive, Negative or Zero?\n",
    "\n",
    "num = int(input(\"Enter the number \\t\"))\n",
    "\n",
    "if num > 0:\n",
    "    print(\"It's positive\")\n",
    "elif num == 0:\n",
    "    print(\"It's a zero\")\n",
    "else:\n",
    "    print(\"It's negative \")"
   ]
  },
  {
   "cell_type": "code",
   "execution_count": null,
   "id": "951204ff",
   "metadata": {},
   "outputs": [],
   "source": [
    "#2. Write a Python Program to Check if a Number is Odd or Even? \n",
    "\n",
    "num = int(input(\"Enter the number \\t\"))\n",
    "\n",
    "if num % 2 == 0:\n",
    "    print(\"It's an Even number\")\n",
    "else:\n",
    "    print(\"It's an Odd number\")\n"
   ]
  },
  {
   "cell_type": "code",
   "execution_count": null,
   "id": "35344587",
   "metadata": {},
   "outputs": [],
   "source": [
    "#3. Write a Python Program to Check Leap Year? \n",
    "\n",
    "year = int(input(\"Enter the year in 4-digits \\t\"))\n",
    "if (year % 4) == 0:\n",
    "    if (year % 100) == 0:\n",
    "        if (year % 400) == 0:\n",
    "           print(\"It is a Leap Year\")\n",
    "        else:\n",
    "           print(\"It is not a Leap Year\")\n",
    "    else:\n",
    "       print(\"It is a Leap Year\")\n",
    "else:\n",
    "   print(\"It is not a Leap Year\")\n"
   ]
  },
  {
   "cell_type": "code",
   "execution_count": null,
   "id": "d7f36022",
   "metadata": {},
   "outputs": [],
   "source": [
    "#4. Write a Python Program to Check Prime Number?\n",
    "\n",
    "num = int(input(\"Enter the number \\t\"))\n",
    "\n",
    "for i in range(2,num):\n",
    "    if num%i == 0:\n",
    "        print(\"It is not a prime number\")\n",
    "        break\n",
    "    else:\n",
    "        print(\"It is a prime number\")\n",
    "        break"
   ]
  },
  {
   "cell_type": "code",
   "execution_count": null,
   "id": "8e0709b7",
   "metadata": {},
   "outputs": [],
   "source": [
    "#5. Write a Python Program to Print all Prime Numbers in an Interval of 1-10000?\n",
    "\n",
    "for i in range(1,100001):    \n",
    "    for j in range(2,i):  \n",
    "        if (i % j) == 0:  \n",
    "            break  \n",
    "        else:  \n",
    "            print(i)  \n",
    "            break"
   ]
  },
  {
   "cell_type": "code",
   "execution_count": null,
   "id": "ba4dd773",
   "metadata": {},
   "outputs": [],
   "source": []
  }
 ],
 "metadata": {
  "kernelspec": {
   "display_name": "Python 3 (ipykernel)",
   "language": "python",
   "name": "python3"
  },
  "language_info": {
   "codemirror_mode": {
    "name": "ipython",
    "version": 3
   },
   "file_extension": ".py",
   "mimetype": "text/x-python",
   "name": "python",
   "nbconvert_exporter": "python",
   "pygments_lexer": "ipython3",
   "version": "3.9.7"
  }
 },
 "nbformat": 4,
 "nbformat_minor": 5
}
