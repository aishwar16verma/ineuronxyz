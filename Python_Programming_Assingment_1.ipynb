{
 "cells": [
  {
   "cell_type": "code",
   "execution_count": 1,
   "id": "ae5eba94",
   "metadata": {},
   "outputs": [
    {
     "name": "stdout",
     "output_type": "stream",
     "text": [
      "Hello World\n"
     ]
    }
   ],
   "source": [
    "#1.Write a Python program to print \"Hello Python\"?\n",
    "print(\"Hello World\")"
   ]
  },
  {
   "cell_type": "code",
   "execution_count": 4,
   "id": "fcec496a",
   "metadata": {},
   "outputs": [
    {
     "name": "stdout",
     "output_type": "stream",
     "text": [
      "Enter the first number\t12\n",
      "Enter the second number\t16\n",
      "28\n",
      "0.75\n"
     ]
    }
   ],
   "source": [
    "#Write a Python program to do arithmetical operations addition and division.?\n",
    "\n",
    "a = int(input(\"Enter the first number\\t\"))\n",
    "b = int(input(\"Enter the second number\\t\"))\n",
    "\n",
    "print(a+b)\n",
    "print(a/b)"
   ]
  },
  {
   "cell_type": "code",
   "execution_count": 6,
   "id": "c8c1f41f",
   "metadata": {},
   "outputs": [
    {
     "name": "stdout",
     "output_type": "stream",
     "text": [
      "Enter the base of triangle\t40\n",
      "Enter the height of triangle\t60\n",
      "The area of the triangle is 1200.0\n"
     ]
    }
   ],
   "source": [
    "#Write a Python program to find the area of a triangle?\n",
    "\n",
    "base = int(input(\"Enter the base of triangle\\t\"))\n",
    "height = int(input(\"Enter the height of triangle\\t\"))\n",
    "\n",
    "area = 1/2*(base*height)\n",
    "print(\"The area of the triangle is {}\".format(area))"
   ]
  },
  {
   "cell_type": "code",
   "execution_count": 8,
   "id": "bd759d23",
   "metadata": {},
   "outputs": [
    {
     "name": "stdout",
     "output_type": "stream",
     "text": [
      "Before swapping a = 30 and b = 40\n",
      "After swapping a = 40 and b = 30\n"
     ]
    }
   ],
   "source": [
    "#Write a Python program to swap two variables?\n",
    "\n",
    "a = 30 \n",
    "b = 40 \n",
    "print(\"Before swapping a = {} and b = {}\".format(a,b))\n",
    "\n",
    "bucket = a\n",
    "a = b\n",
    "b = bucket \n",
    "print(\"After swapping a = {} and b = {}\".format(a,b))"
   ]
  },
  {
   "cell_type": "code",
   "execution_count": 9,
   "id": "76cde05b",
   "metadata": {},
   "outputs": [
    {
     "name": "stdout",
     "output_type": "stream",
     "text": [
      "Enter lower limit\t12\n",
      "Enter upper limit\t100\n",
      "84\n"
     ]
    }
   ],
   "source": [
    "#Write a Python program to generate a random number?\n",
    "\n",
    "import random \n",
    "\n",
    "a = int(input(\"Enter lower limit\\t\"))\n",
    "b = int(input(\"Enter upper limit\\t\"))\n",
    "print(random.randint(a,b))"
   ]
  },
  {
   "cell_type": "code",
   "execution_count": null,
   "id": "4d1e50ab",
   "metadata": {},
   "outputs": [],
   "source": []
  }
 ],
 "metadata": {
  "kernelspec": {
   "display_name": "Python 3 (ipykernel)",
   "language": "python",
   "name": "python3"
  },
  "language_info": {
   "codemirror_mode": {
    "name": "ipython",
    "version": 3
   },
   "file_extension": ".py",
   "mimetype": "text/x-python",
   "name": "python",
   "nbconvert_exporter": "python",
   "pygments_lexer": "ipython3",
   "version": "3.9.7"
  }
 },
 "nbformat": 4,
 "nbformat_minor": 5
}
